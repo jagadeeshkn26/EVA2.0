{
  "nbformat": 4,
  "nbformat_minor": 0,
  "metadata": {
    "colab": {
      "name": "SecondDNN.ipynb",
      "version": "0.3.2",
      "provenance": [],
      "collapsed_sections": [],
      "include_colab_link": true
    },
    "kernelspec": {
      "name": "python3",
      "display_name": "Python 3"
    },
    "accelerator": "GPU"
  },
  "cells": [
    {
      "cell_type": "markdown",
      "metadata": {
        "id": "view-in-github",
        "colab_type": "text"
      },
      "source": [
        "<a href=\"https://colab.research.google.com/github/Manjunath-Yelipeta/EVA/blob/master/Project4/SecondDNN.ipynb\" target=\"_parent\"><img src=\"https://colab.research.google.com/assets/colab-badge.svg\" alt=\"Open In Colab\"/></a>"
      ]
    },
    {
      "cell_type": "markdown",
      "metadata": {
        "id": "aNyZv-Ec52ot",
        "colab_type": "text"
      },
      "source": [
        "# **Import Libraries and modules**"
      ]
    },
    {
      "cell_type": "markdown",
      "metadata": {
        "id": "wEbEuDbWEdv9",
        "colab_type": "text"
      },
      "source": [
        "#Second Neural Network Model\n",
        "\n",
        "#### This is the second neural network model without Batch Normalization, dropout , change of learning rate  included.\n",
        "\n",
        "\n",
        "## Improvement over Previous network \n",
        "\n",
        "#### 1) Have added Bottleneck layers i.e 1*1 convolutions with maxpooling\n",
        "#### 2) Have increased the number  of 3*3 convolutions \n",
        "#### 3)Have positioned the bottleneck layer after 7*7 receptive field\n",
        "#### 4)Have added the validation data check in fit method.\n",
        "#### 5)Has maintained the distance of maxpooling from prediction layer.\n",
        "#### 6)Have stopped the convolution with a bigger sized kernel\n",
        "\n",
        "\n",
        "### Total Number of parameters used :  12868\n",
        "### Total Number of epoch trained : 20\n",
        "### Batch size used while training = 32\n",
        "### Validation accuracy acheived after 20 epochs : 99.05%"
      ]
    },
    {
      "cell_type": "markdown",
      "metadata": {
        "id": "L-pKsfOYAyF8",
        "colab_type": "text"
      },
      "source": [
        "#### Installing keras library using pip"
      ]
    },
    {
      "cell_type": "code",
      "metadata": {
        "id": "3m3w1Cw49Zkt",
        "colab_type": "code",
        "outputId": "7a9a9e23-7de0-4047-bba6-4246a82bd07c",
        "colab": {
          "base_uri": "https://localhost:8080/",
          "height": 35
        }
      },
      "source": [
        "# https://keras.io/\n",
        "!pip install -q keras\n",
        "import keras"
      ],
      "execution_count": 1,
      "outputs": [
        {
          "output_type": "stream",
          "text": [
            "Using TensorFlow backend.\n"
          ],
          "name": "stderr"
        }
      ]
    },
    {
      "cell_type": "markdown",
      "metadata": {
        "id": "zOWINHDqBXB7",
        "colab_type": "text"
      },
      "source": [
        "#### Importing libraries needed for convolutions and mnist dataset"
      ]
    },
    {
      "cell_type": "code",
      "metadata": {
        "id": "Eso6UHE080D4",
        "colab_type": "code",
        "colab": {}
      },
      "source": [
        "import numpy as np\n",
        "\n",
        "from keras.models import Sequential\n",
        "from keras.layers import Dense, Dropout, Activation, Flatten, Add\n",
        "from keras.layers import Convolution2D, MaxPooling2D\n",
        "from keras.utils import np_utils\n",
        "\n",
        "from keras.datasets import mnist"
      ],
      "execution_count": 0,
      "outputs": []
    },
    {
      "cell_type": "markdown",
      "metadata": {
        "id": "zByEi95J86RD",
        "colab_type": "text"
      },
      "source": [
        "### Load pre-shuffled MNIST data into train and test sets"
      ]
    },
    {
      "cell_type": "code",
      "metadata": {
        "id": "7eRM0QWN83PV",
        "colab_type": "code",
        "outputId": "b013250b-e82d-451d-9d91-b34936f34949",
        "colab": {
          "base_uri": "https://localhost:8080/",
          "height": 52
        }
      },
      "source": [
        "(X_train, y_train), (X_test, y_test) = mnist.load_data()"
      ],
      "execution_count": 3,
      "outputs": [
        {
          "output_type": "stream",
          "text": [
            "Downloading data from https://s3.amazonaws.com/img-datasets/mnist.npz\n",
            "11493376/11490434 [==============================] - 1s 0us/step\n"
          ],
          "name": "stdout"
        }
      ]
    },
    {
      "cell_type": "markdown",
      "metadata": {
        "id": "ejwvzfGqBoLz",
        "colab_type": "text"
      },
      "source": [
        "#### Plotting the Image "
      ]
    },
    {
      "cell_type": "code",
      "metadata": {
        "id": "4a4Be72j8-ZC",
        "colab_type": "code",
        "outputId": "05c2d128-1df6-456d-d0b2-45c253abb586",
        "colab": {
          "base_uri": "https://localhost:8080/",
          "height": 304
        }
      },
      "source": [
        "print (X_train.shape)\n",
        "from matplotlib import pyplot as plt\n",
        "%matplotlib inline\n",
        "plt.imshow(X_train[0])"
      ],
      "execution_count": 4,
      "outputs": [
        {
          "output_type": "stream",
          "text": [
            "(60000, 28, 28)\n"
          ],
          "name": "stdout"
        },
        {
          "output_type": "execute_result",
          "data": {
            "text/plain": [
              "<matplotlib.image.AxesImage at 0x7f5d9e8e4860>"
            ]
          },
          "metadata": {
            "tags": []
          },
          "execution_count": 4
        },
        {
          "output_type": "display_data",
          "data": {
            "image/png": "[encoded data removed]",
            "text/plain": [
              "<Figure size 432x288 with 1 Axes>"
            ]
          },
          "metadata": {
            "tags": []
          }
        }
      ]
    },
    {
      "cell_type": "code",
      "metadata": {
        "id": "txjbSwIwupzE",
        "colab_type": "code",
        "outputId": "6d81930c-2a4e-4d96-eb60-cec955a331d2",
        "colab": {
          "base_uri": "https://localhost:8080/",
          "height": 287
        }
      },
      "source": [
        "plt.imshow(X_train[1])"
      ],
      "execution_count": 5,
      "outputs": [
        {
          "output_type": "execute_result",
          "data": {
            "text/plain": [
              "<matplotlib.image.AxesImage at 0x7f5d9c07d3c8>"
            ]
          },
          "metadata": {
            "tags": []
          },
          "execution_count": 5
        },
        {
          "output_type": "display_data",
          "data": {
            "image/png": "[encoded data removed]",
            "text/plain": [
              "<Figure size 432x288 with 1 Axes>"
            ]
          },
          "metadata": {
            "tags": []
          }
        }
      ]
    },
    {
      "cell_type": "code",
      "metadata": {
        "id": "EAO_3275uyzk",
        "colab_type": "code",
        "outputId": "2b70f92c-72a4-446c-a1c5-99036b76208a",
        "colab": {
          "base_uri": "https://localhost:8080/",
          "height": 287
        }
      },
      "source": [
        "plt.imshow(X_train[10])"
      ],
      "execution_count": 6,
      "outputs": [
        {
          "output_type": "execute_result",
          "data": {
            "text/plain": [
              "<matplotlib.image.AxesImage at 0x7f5d9bfdd550>"
            ]
          },
          "metadata": {
            "tags": []
          },
          "execution_count": 6
        },
        {
          "output_type": "display_data",
          "data": {
            "image/png": "[encoded data removed]",
            "text/plain": [
              "<Figure size 432x288 with 1 Axes>"
            ]
          },
          "metadata": {
            "tags": []
          }
        }
      ]
    },
    {
      "cell_type": "markdown",
      "metadata": {
        "id": "V8vPDrAMCSCL",
        "colab_type": "text"
      },
      "source": [
        "#### Reshaping the Image into required format"
      ]
    },
    {
      "cell_type": "code",
      "metadata": {
        "id": "dkmprriw9AnZ",
        "colab_type": "code",
        "colab": {}
      },
      "source": [
        "X_train = X_train.reshape(X_train.shape[0], 28, 28,1)\n",
        "X_test = X_test.reshape(X_test.shape[0], 28, 28,1)"
      ],
      "execution_count": 0,
      "outputs": []
    },
    {
      "cell_type": "markdown",
      "metadata": {
        "id": "T26lfnupCbpB",
        "colab_type": "text"
      },
      "source": [
        "#### Converting train and test data into float and normalizing the data"
      ]
    },
    {
      "cell_type": "code",
      "metadata": {
        "id": "X2m4YS4E9CRh",
        "colab_type": "code",
        "colab": {}
      },
      "source": [
        "X_train = X_train.astype('float32')\n",
        "X_test = X_test.astype('float32')\n",
        "X_train /= 255\n",
        "X_test /= 255"
      ],
      "execution_count": 0,
      "outputs": []
    },
    {
      "cell_type": "markdown",
      "metadata": {
        "id": "eb1I7LFYCkaC",
        "colab_type": "text"
      },
      "source": [
        "#### seeing the first 10 training labels"
      ]
    },
    {
      "cell_type": "code",
      "metadata": {
        "id": "0Mn0vAYD9DvB",
        "colab_type": "code",
        "outputId": "e944bc98-245b-461d-dcc3-9f16d6f73dfc",
        "colab": {
          "base_uri": "https://localhost:8080/",
          "height": 35
        }
      },
      "source": [
        "y_train[:10]"
      ],
      "execution_count": 9,
      "outputs": [
        {
          "output_type": "execute_result",
          "data": {
            "text/plain": [
              "array([5, 0, 4, 1, 9, 2, 1, 3, 1, 4], dtype=uint8)"
            ]
          },
          "metadata": {
            "tags": []
          },
          "execution_count": 9
        }
      ]
    },
    {
      "cell_type": "markdown",
      "metadata": {
        "id": "2kMH8_0SCvn6",
        "colab_type": "text"
      },
      "source": [
        ""
      ]
    },
    {
      "cell_type": "markdown",
      "metadata": {
        "id": "-6997wl7C3yE",
        "colab_type": "text"
      },
      "source": [
        "####  Convert 1-dimensional class arrays to 10-dimensional class matrices"
      ]
    },
    {
      "cell_type": "code",
      "metadata": {
        "id": "ZG8JiXR39FHC",
        "colab_type": "code",
        "colab": {}
      },
      "source": [
        "# Convert 1-dimensional class arrays to 10-dimensional class matrices\n",
        "Y_train = np_utils.to_categorical(y_train, 10)\n",
        "Y_test = np_utils.to_categorical(y_test, 10)"
      ],
      "execution_count": 0,
      "outputs": []
    },
    {
      "cell_type": "markdown",
      "metadata": {
        "id": "Oh9qpCzjDV7U",
        "colab_type": "text"
      },
      "source": [
        "#### Checking the training labels after converting them to 10-dimensional class matrices."
      ]
    },
    {
      "cell_type": "code",
      "metadata": {
        "id": "fYlFRvKS9HMB",
        "colab_type": "code",
        "outputId": "6ac3d9bd-9887-4e4a-ca6e-06a4ef6564dc",
        "colab": {
          "base_uri": "https://localhost:8080/",
          "height": 191
        }
      },
      "source": [
        "Y_train[:10]\n"
      ],
      "execution_count": 56,
      "outputs": [
        {
          "output_type": "execute_result",
          "data": {
            "text/plain": [
              "array([[0., 0., 0., 0., 0., 1., 0., 0., 0., 0.],\n",
              "       [1., 0., 0., 0., 0., 0., 0., 0., 0., 0.],\n",
              "       [0., 0., 0., 0., 1., 0., 0., 0., 0., 0.],\n",
              "       [0., 1., 0., 0., 0., 0., 0., 0., 0., 0.],\n",
              "       [0., 0., 0., 0., 0., 0., 0., 0., 0., 1.],\n",
              "       [0., 0., 1., 0., 0., 0., 0., 0., 0., 0.],\n",
              "       [0., 1., 0., 0., 0., 0., 0., 0., 0., 0.],\n",
              "       [0., 0., 0., 1., 0., 0., 0., 0., 0., 0.],\n",
              "       [0., 1., 0., 0., 0., 0., 0., 0., 0., 0.],\n",
              "       [0., 0., 0., 0., 1., 0., 0., 0., 0., 0.]], dtype=float32)"
            ]
          },
          "metadata": {
            "tags": []
          },
          "execution_count": 56
        }
      ]
    },
    {
      "cell_type": "markdown",
      "metadata": {
        "id": "79D-tLGHDjKF",
        "colab_type": "text"
      },
      "source": [
        "#### Importing the required operators for convolutions"
      ]
    },
    {
      "cell_type": "code",
      "metadata": {
        "id": "0dB_qhIs6Ax5",
        "colab_type": "code",
        "colab": {}
      },
      "source": [
        "from keras.layers import Conv2D, MaxPooling2D,BatchNormalization,Flatten,GlobalAveragePooling2D,Dropout"
      ],
      "execution_count": 0,
      "outputs": []
    },
    {
      "cell_type": "markdown",
      "metadata": {
        "id": "ytmE9H32D2zG",
        "colab_type": "text"
      },
      "source": [
        "# Second Neural Network Model"
      ]
    },
    {
      "cell_type": "code",
      "metadata": {
        "id": "NWLWWuoUWxsX",
        "colab_type": "code",
        "outputId": "2a0feaf7-fa18-4a92-bafa-d236e45bf7de",
        "colab": {
          "base_uri": "https://localhost:8080/",
          "height": 245
        }
      },
      "source": [
        "\n",
        "model1 = Sequential()\n",
        "model1.add(Convolution2D(8,3,3,input_shape=(28,28,1))) #(3*3,26*26) of the form (effective global receptive field,output channel size )\n",
        "model1.add(Activation('relu'))\n",
        "\n",
        "\n",
        "model1.add(Convolution2D(10,3,3)) #(5*5,24*24)\n",
        "model1.add(Activation('relu'))\n",
        "\n",
        "\n",
        "\n",
        "model1.add(Convolution2D(32,3,3)) #(7*7,22*22)\n",
        "model1.add(Activation('relu'))\n",
        "\n",
        "#since the image size is 28*28*1,Adding the bottleneck layer after 7*7 receptive field.\n",
        "model1.add(Convolution2D(8,1,1)) #(7*7,22*22)\n",
        "model1.add(Activation('relu'))\n",
        "model1.add(MaxPooling2D(pool_size=(2,2))) #(14*14,11*11)\n",
        "\n",
        "\n",
        "model1.add(Convolution2D(10,3,3)) #(16*16,9*9)\n",
        "model1.add(Activation('relu'))\n",
        "\n",
        "\n",
        "model1.add(Convolution2D(32,3,3)) #(18*18,7*7)\n",
        "model1.add(Activation('relu'))\n",
        "\n",
        "model1.add(Convolution2D(10,1,1)) #(18*18,7*7)\n",
        "model1.add(Activation('relu'))\n",
        "\n",
        "\n",
        "model1.add(Convolution2D(10,7,7)) #(24*24,10*1*1)\n",
        "#passing the final activations through softmax layer.\n",
        "model1.add(Flatten())\n",
        "model1.add(Activation('softmax'))"
      ],
      "execution_count": 51,
      "outputs": [
        {
          "output_type": "stream",
          "text": [
            "/usr/local/lib/python3.6/dist-packages/ipykernel_launcher.py:3: UserWarning: Update your `Conv2D` call to the Keras 2 API: `Conv2D(8, (3, 3), input_shape=(28, 28, 1...)`\n",
            "  This is separate from the ipykernel package so we can avoid doing imports until\n",
            "/usr/local/lib/python3.6/dist-packages/ipykernel_launcher.py:7: UserWarning: Update your `Conv2D` call to the Keras 2 API: `Conv2D(10, (3, 3))`\n",
            "  import sys\n",
            "/usr/local/lib/python3.6/dist-packages/ipykernel_launcher.py:12: UserWarning: Update your `Conv2D` call to the Keras 2 API: `Conv2D(32, (3, 3))`\n",
            "  if sys.path[0] == '':\n",
            "/usr/local/lib/python3.6/dist-packages/ipykernel_launcher.py:16: UserWarning: Update your `Conv2D` call to the Keras 2 API: `Conv2D(8, (1, 1))`\n",
            "  app.launch_new_instance()\n",
            "/usr/local/lib/python3.6/dist-packages/ipykernel_launcher.py:21: UserWarning: Update your `Conv2D` call to the Keras 2 API: `Conv2D(10, (3, 3))`\n",
            "/usr/local/lib/python3.6/dist-packages/ipykernel_launcher.py:25: UserWarning: Update your `Conv2D` call to the Keras 2 API: `Conv2D(32, (3, 3))`\n",
            "/usr/local/lib/python3.6/dist-packages/ipykernel_launcher.py:28: UserWarning: Update your `Conv2D` call to the Keras 2 API: `Conv2D(10, (1, 1))`\n",
            "/usr/local/lib/python3.6/dist-packages/ipykernel_launcher.py:32: UserWarning: Update your `Conv2D` call to the Keras 2 API: `Conv2D(10, (7, 7))`\n"
          ],
          "name": "stderr"
        }
      ]
    },
    {
      "cell_type": "markdown",
      "metadata": {
        "id": "4qwYy1PWF93v",
        "colab_type": "text"
      },
      "source": [
        "#### Printing the summary of the model"
      ]
    },
    {
      "cell_type": "code",
      "metadata": {
        "id": "AYCUgb3_XdwU",
        "colab_type": "code",
        "outputId": "61c0fe63-065a-4a71-cf54-0d97d6aa84e9",
        "colab": {
          "base_uri": "https://localhost:8080/",
          "height": 728
        }
      },
      "source": [
        "model1.summary()"
      ],
      "execution_count": 52,
      "outputs": [
        {
          "output_type": "stream",
          "text": [
            "_________________________________________________________________\n",
            "Layer (type)                 Output Shape              Param #   \n",
            "=================================================================\n",
            "conv2d_57 (Conv2D)           (None, 26, 26, 8)         80        \n",
            "_________________________________________________________________\n",
            "activation_55 (Activation)   (None, 26, 26, 8)         0         \n",
            "_________________________________________________________________\n",
            "conv2d_58 (Conv2D)           (None, 24, 24, 10)        730       \n",
            "_________________________________________________________________\n",
            "activation_56 (Activation)   (None, 24, 24, 10)        0         \n",
            "_________________________________________________________________\n",
            "conv2d_59 (Conv2D)           (None, 22, 22, 32)        2912      \n",
            "_________________________________________________________________\n",
            "activation_57 (Activation)   (None, 22, 22, 32)        0         \n",
            "_________________________________________________________________\n",
            "conv2d_60 (Conv2D)           (None, 22, 22, 8)         264       \n",
            "_________________________________________________________________\n",
            "max_pooling2d_8 (MaxPooling2 (None, 11, 11, 8)         0         \n",
            "_________________________________________________________________\n",
            "conv2d_61 (Conv2D)           (None, 9, 9, 10)          730       \n",
            "_________________________________________________________________\n",
            "activation_58 (Activation)   (None, 9, 9, 10)          0         \n",
            "_________________________________________________________________\n",
            "conv2d_62 (Conv2D)           (None, 7, 7, 32)          2912      \n",
            "_________________________________________________________________\n",
            "activation_59 (Activation)   (None, 7, 7, 32)          0         \n",
            "_________________________________________________________________\n",
            "conv2d_63 (Conv2D)           (None, 7, 7, 10)          330       \n",
            "_________________________________________________________________\n",
            "activation_60 (Activation)   (None, 7, 7, 10)          0         \n",
            "_________________________________________________________________\n",
            "conv2d_64 (Conv2D)           (None, 1, 1, 10)          4910      \n",
            "_________________________________________________________________\n",
            "flatten_8 (Flatten)          (None, 10)                0         \n",
            "_________________________________________________________________\n",
            "activation_61 (Activation)   (None, 10)                0         \n",
            "=================================================================\n",
            "Total params: 12,868\n",
            "Trainable params: 12,868\n",
            "Non-trainable params: 0\n",
            "_________________________________________________________________\n"
          ],
          "name": "stdout"
        }
      ]
    },
    {
      "cell_type": "markdown",
      "metadata": {
        "id": "vN6E5JKUGDEG",
        "colab_type": "text"
      },
      "source": [
        "#### Importing the Adam optimizer."
      ]
    },
    {
      "cell_type": "code",
      "metadata": {
        "id": "NIVT1VvHGdTn",
        "colab_type": "code",
        "colab": {}
      },
      "source": [
        "from keras.optimizers import Adam"
      ],
      "execution_count": 0,
      "outputs": []
    },
    {
      "cell_type": "markdown",
      "metadata": {
        "id": "w5oICLIYGJOx",
        "colab_type": "text"
      },
      "source": [
        "#### Compiling the model with specifying loss function for classification and optimizer"
      ]
    },
    {
      "cell_type": "code",
      "metadata": {
        "id": "Zp6SuGrL9M3h",
        "colab_type": "code",
        "colab": {}
      },
      "source": [
        "model1.compile(loss='categorical_crossentropy',\n",
        "             optimizer=Adam(lr=0.003),\n",
        "             metrics=['accuracy'])"
      ],
      "execution_count": 0,
      "outputs": []
    },
    {
      "cell_type": "markdown",
      "metadata": {
        "id": "4q6ENuCaGXXX",
        "colab_type": "text"
      },
      "source": [
        "#### Training the model for 20 Epochs."
      ]
    },
    {
      "cell_type": "code",
      "metadata": {
        "id": "4xWoKhPY9Of5",
        "colab_type": "code",
        "outputId": "9354c257-ec37-44ed-bd53-1e5357221723",
        "colab": {
          "base_uri": "https://localhost:8080/",
          "height": 780
        }
      },
      "source": [
        "model1.fit(X_train, Y_train, batch_size=32, nb_epoch=20, verbose=1,validation_data=(X_test, Y_test))"
      ],
      "execution_count": 55,
      "outputs": [
        {
          "output_type": "stream",
          "text": [
            "/usr/local/lib/python3.6/dist-packages/ipykernel_launcher.py:1: UserWarning: The `nb_epoch` argument in `fit` has been renamed `epochs`.\n",
            "  \"\"\"Entry point for launching an IPython kernel.\n"
          ],
          "name": "stderr"
        },
        {
          "output_type": "stream",
          "text": [
            "Train on 60000 samples, validate on 10000 samples\n",
            "Epoch 1/20\n",
            "60000/60000 [==============================] - 12s 207us/step - loss: 0.1568 - acc: 0.9516 - val_loss: 0.0751 - val_acc: 0.9755\n",
            "Epoch 2/20\n",
            "60000/60000 [==============================] - 11s 180us/step - loss: 0.0688 - acc: 0.9787 - val_loss: 0.0563 - val_acc: 0.9822\n",
            "Epoch 3/20\n",
            "60000/60000 [==============================] - 11s 180us/step - loss: 0.0542 - acc: 0.9833 - val_loss: 0.0545 - val_acc: 0.9819\n",
            "Epoch 4/20\n",
            "60000/60000 [==============================] - 11s 180us/step - loss: 0.0476 - acc: 0.9859 - val_loss: 0.0535 - val_acc: 0.9820\n",
            "Epoch 5/20\n",
            "60000/60000 [==============================] - 11s 181us/step - loss: 0.0421 - acc: 0.9866 - val_loss: 0.0400 - val_acc: 0.9861\n",
            "Epoch 6/20\n",
            "60000/60000 [==============================] - 11s 181us/step - loss: 0.0372 - acc: 0.9883 - val_loss: 0.0464 - val_acc: 0.9860\n",
            "Epoch 7/20\n",
            "60000/60000 [==============================] - 11s 186us/step - loss: 0.0337 - acc: 0.9893 - val_loss: 0.0412 - val_acc: 0.9891\n",
            "Epoch 8/20\n",
            "60000/60000 [==============================] - 12s 196us/step - loss: 0.0330 - acc: 0.9894 - val_loss: 0.0456 - val_acc: 0.9874\n",
            "Epoch 9/20\n",
            "60000/60000 [==============================] - 11s 180us/step - loss: 0.0313 - acc: 0.9903 - val_loss: 0.0345 - val_acc: 0.9893\n",
            "Epoch 10/20\n",
            "60000/60000 [==============================] - 11s 180us/step - loss: 0.0285 - acc: 0.9910 - val_loss: 0.0430 - val_acc: 0.9881\n",
            "Epoch 11/20\n",
            "60000/60000 [==============================] - 11s 181us/step - loss: 0.0276 - acc: 0.9907 - val_loss: 0.0484 - val_acc: 0.9866\n",
            "Epoch 12/20\n",
            "60000/60000 [==============================] - 11s 180us/step - loss: 0.0275 - acc: 0.9911 - val_loss: 0.0466 - val_acc: 0.9878\n",
            "Epoch 13/20\n",
            "60000/60000 [==============================] - 11s 180us/step - loss: 0.0266 - acc: 0.9919 - val_loss: 0.0419 - val_acc: 0.9877\n",
            "Epoch 14/20\n",
            "60000/60000 [==============================] - 11s 180us/step - loss: 0.0251 - acc: 0.9919 - val_loss: 0.0443 - val_acc: 0.9886\n",
            "Epoch 15/20\n",
            "60000/60000 [==============================] - 12s 206us/step - loss: 0.0243 - acc: 0.9921 - val_loss: 0.0428 - val_acc: 0.9877\n",
            "Epoch 16/20\n",
            "60000/60000 [==============================] - 11s 181us/step - loss: 0.0261 - acc: 0.9917 - val_loss: 0.0467 - val_acc: 0.9866\n",
            "Epoch 17/20\n",
            "60000/60000 [==============================] - 11s 181us/step - loss: 0.0235 - acc: 0.9925 - val_loss: 0.0463 - val_acc: 0.9872\n",
            "Epoch 18/20\n",
            "60000/60000 [==============================] - 11s 181us/step - loss: 0.0253 - acc: 0.9918 - val_loss: 0.0496 - val_acc: 0.9878\n",
            "Epoch 19/20\n",
            "60000/60000 [==============================] - 11s 181us/step - loss: 0.0245 - acc: 0.9921 - val_loss: 0.0396 - val_acc: 0.9886\n",
            "Epoch 20/20\n",
            "60000/60000 [==============================] - 11s 181us/step - loss: 0.0223 - acc: 0.9924 - val_loss: 0.0403 - val_acc: 0.9905\n"
          ],
          "name": "stdout"
        },
        {
          "output_type": "execute_result",
          "data": {
            "text/plain": [
              "<keras.callbacks.History at 0x7f5d6ca70588>"
            ]
          },
          "metadata": {
            "tags": []
          },
          "execution_count": 55
        }
      ]
    },
    {
      "cell_type": "markdown",
      "metadata": {
        "id": "9XsDdvzjGmns",
        "colab_type": "text"
      },
      "source": [
        ""
      ]
    },
    {
      "cell_type": "markdown",
      "metadata": {
        "id": "JRxfI5jRGsqu",
        "colab_type": "text"
      },
      "source": [
        "#### getting the score on the test data"
      ]
    },
    {
      "cell_type": "code",
      "metadata": {
        "id": "AtsH-lLk-eLb",
        "colab_type": "code",
        "colab": {}
      },
      "source": [
        "score = model1.evaluate(X_test, Y_test, verbose=0)"
      ],
      "execution_count": 0,
      "outputs": []
    },
    {
      "cell_type": "markdown",
      "metadata": {
        "id": "SBU54gWgGzCp",
        "colab_type": "text"
      },
      "source": [
        "#### Printing the score of test data evaluated by model"
      ]
    },
    {
      "cell_type": "code",
      "metadata": {
        "id": "mkX8JMv79q9r",
        "colab_type": "code",
        "outputId": "b44625fb-896c-47b8-841b-077579587820",
        "colab": {
          "base_uri": "https://localhost:8080/",
          "height": 35
        }
      },
      "source": [
        "print(score)"
      ],
      "execution_count": 58,
      "outputs": [
        {
          "output_type": "stream",
          "text": [
            "[0.040291319600494716, 0.9905]\n"
          ],
          "name": "stdout"
        }
      ]
    },
    {
      "cell_type": "code",
      "metadata": {
        "id": "NrsoIU_Gwbh-",
        "colab_type": "code",
        "outputId": "7dc0fe9e-f2b1-4c0d-94d1-d7aa35e1b29b",
        "colab": {
          "base_uri": "https://localhost:8080/",
          "height": 52
        }
      },
      "source": [
        "print(X_train.shape)\n",
        "print(X_test.shape)"
      ],
      "execution_count": 59,
      "outputs": [
        {
          "output_type": "stream",
          "text": [
            "(60000, 28, 28, 1)\n",
            "(10000, 28, 28, 1)\n"
          ],
          "name": "stdout"
        }
      ]
    },
    {
      "cell_type": "markdown",
      "metadata": {
        "id": "m4p6dqcKG5uv",
        "colab_type": "text"
      },
      "source": [
        "#### getting the predictions on test data"
      ]
    },
    {
      "cell_type": "code",
      "metadata": {
        "id": "OCWoJkwE9suh",
        "colab_type": "code",
        "colab": {}
      },
      "source": [
        "y_pred = model1.predict(X_test)"
      ],
      "execution_count": 0,
      "outputs": []
    },
    {
      "cell_type": "markdown",
      "metadata": {
        "id": "VkgSw7AwHAZb",
        "colab_type": "text"
      },
      "source": [
        "#### Seeing the first nine predictions"
      ]
    },
    {
      "cell_type": "code",
      "metadata": {
        "id": "Ym7iCFBm9uBs",
        "colab_type": "code",
        "outputId": "cdb503cb-f5b6-43e2-d642-52823a70bc82",
        "colab": {
          "base_uri": "https://localhost:8080/",
          "height": 503
        }
      },
      "source": [
        "print(y_pred[:9])\n",
        "print(y_test[:9])"
      ],
      "execution_count": 61,
      "outputs": [
        {
          "output_type": "stream",
          "text": [
            "[[2.13293164e-12 6.70616059e-15 1.36588163e-11 1.47466483e-09\n",
            "  1.19638102e-17 3.49860606e-16 6.10927905e-26 1.00000000e+00\n",
            "  1.93679138e-13 1.86969551e-09]\n",
            " [3.58907850e-14 1.84553046e-14 1.00000000e+00 1.16273536e-16\n",
            "  1.71068604e-25 7.18286960e-22 1.98302746e-13 2.57348329e-20\n",
            "  7.42100744e-14 7.22034906e-20]\n",
            " [7.77419969e-12 9.99981999e-01 7.71501561e-07 1.25214206e-09\n",
            "  3.35511572e-06 4.17351066e-06 7.01514136e-09 9.62471859e-06\n",
            "  2.18151719e-08 7.62998766e-08]\n",
            " [9.99989152e-01 3.42992317e-13 1.16636141e-08 7.14554772e-13\n",
            "  3.17881450e-11 2.99961052e-08 8.34592265e-06 1.00953350e-10\n",
            "  1.48236525e-08 2.51553570e-06]\n",
            " [1.41544235e-16 5.89553026e-19 1.25674755e-15 1.34971529e-20\n",
            "  1.00000000e+00 1.80228503e-20 1.06158573e-17 1.01004404e-16\n",
            "  2.86368208e-16 3.79124232e-10]\n",
            " [3.72897581e-14 9.99997735e-01 6.87993520e-08 1.00841210e-11\n",
            "  1.99967167e-06 1.78222062e-10 9.25516552e-10 1.40607099e-07\n",
            "  5.45722401e-09 6.64575905e-09]\n",
            " [5.06695394e-23 2.45456411e-12 3.16013627e-13 3.58222864e-13\n",
            "  9.99987006e-01 1.24207751e-12 2.30186674e-21 2.87883129e-12\n",
            "  5.74984733e-06 7.27568658e-06]\n",
            " [1.41663563e-13 3.97514487e-13 2.50426103e-11 5.73049594e-11\n",
            "  2.26871096e-04 2.27382579e-09 1.01258025e-13 3.75686288e-10\n",
            "  9.54916231e-06 9.99763548e-01]\n",
            " [2.23134469e-10 9.50174973e-25 2.42026807e-14 7.14669209e-14\n",
            "  1.15793851e-16 9.98853445e-01 1.14607869e-03 2.76129162e-15\n",
            "  3.31355693e-07 1.61707462e-07]]\n",
            "[7 2 1 0 4 1 4 9 5]\n"
          ],
          "name": "stdout"
        }
      ]
    },
    {
      "cell_type": "code",
      "metadata": {
        "id": "CT--y98_dr2T",
        "colab_type": "code",
        "colab": {}
      },
      "source": [
        "layer_dict = dict([(layer.name, layer) for layer in model1.layers])"
      ],
      "execution_count": 0,
      "outputs": []
    },
    {
      "cell_type": "code",
      "metadata": {
        "id": "9tvptcn8dxvp",
        "colab_type": "code",
        "colab": {
          "base_uri": "https://localhost:8080/",
          "height": 837
        },
        "outputId": "07951030-16c3-4c02-c08a-55197b4cdd7b"
      },
      "source": [
        "import numpy as np\n",
        "from matplotlib import pyplot as plt\n",
        "from keras import backend as K\n",
        "%matplotlib inline\n",
        "# util function to convert a tensor into a valid image\n",
        "def deprocess_image(x):\n",
        "    # normalize tensor: center on 0., ensure std is 0.1\n",
        "    x -= x.mean()\n",
        "    x /= (x.std() + 1e-5)\n",
        "    x *= 0.1\n",
        "\n",
        "    # clip to [0, 1]\n",
        "    x += 0.5\n",
        "    x = np.clip(x, 0, 1)\n",
        "\n",
        "    # convert to RGB array\n",
        "    x *= 255\n",
        "    #x = x.transpose((1, 2, 0))\n",
        "    x = np.clip(x, 0, 255).astype('uint8')\n",
        "    return x\n",
        "\n",
        "def vis_img_in_filter(img = np.array(X_train[2]).reshape((1, 28, 28, 1)).astype(np.float64), \n",
        "                      layer_name = 'conv2d_59'):\n",
        "    layer_output = layer_dict[layer_name].output\n",
        "    img_ascs = list()\n",
        "    for filter_index in range(layer_output.shape[3]):\n",
        "        # build a loss function that maximizes the activation\n",
        "        # of the nth filter of the layer considered\n",
        "        loss = K.mean(layer_output[:, :, :, filter_index])\n",
        "\n",
        "        # compute the gradient of the input picture wrt this loss\n",
        "        grads = K.gradients(loss, model1.input)[0]\n",
        "\n",
        "        # normalization trick: we normalize the gradient\n",
        "        grads /= (K.sqrt(K.mean(K.square(grads))) + 1e-5)\n",
        "\n",
        "        # this function returns the loss and grads given the input picture\n",
        "        iterate = K.function([model1.input], [loss, grads])\n",
        "\n",
        "        # step size for gradient ascent\n",
        "        step = 5.\n",
        "\n",
        "        img_asc = np.array(img)\n",
        "        # run gradient ascent for 20 steps\n",
        "        for i in range(20):\n",
        "            loss_value, grads_value = iterate([img_asc])\n",
        "            img_asc += grads_value * step\n",
        "\n",
        "        img_asc = img_asc[0]\n",
        "        img_ascs.append(deprocess_image(img_asc).reshape((28, 28)))\n",
        "        \n",
        "    if layer_output.shape[3] >= 35:\n",
        "        plot_x, plot_y = 6, 6\n",
        "    elif layer_output.shape[3] >= 23:\n",
        "        plot_x, plot_y = 4, 6\n",
        "    elif layer_output.shape[3] >= 11:\n",
        "        plot_x, plot_y = 2, 6\n",
        "    else:\n",
        "        plot_x, plot_y = 1, 2\n",
        "    fig, ax = plt.subplots(plot_x, plot_y, figsize = (12, 12))\n",
        "    ax[0, 0].imshow(img.reshape((28, 28)), cmap = 'gray')\n",
        "    ax[0, 0].set_title('Input image')\n",
        "    fig.suptitle('Input image and %s filters' % (layer_name,))\n",
        "    fig.tight_layout(pad = 0.3, rect = [0, 0, 0.9, 0.9])\n",
        "    for (x, y) in [(i, j) for i in range(plot_x) for j in range(plot_y)]:\n",
        "        if x == 0 and y == 0:\n",
        "            continue\n",
        "        ax[x, y].imshow(img_ascs[x * plot_y + y - 1], cmap = 'gray')\n",
        "        ax[x, y].set_title('filter %d' % (x * plot_y + y - 1))\n",
        "\n",
        "vis_img_in_filter()"
      ],
      "execution_count": 70,
      "outputs": [
        {
          "output_type": "display_data",
          "data": {
            "image/png": "[encoded data removed]",
            "text/plain": [
              "<Figure size 864x864 with 24 Axes>"
            ]
          },
          "metadata": {
            "tags": []
          }
        }
      ]
    },
    {
      "cell_type": "code",
      "metadata": {
        "id": "VriFbAfNJxB4",
        "colab_type": "code",
        "colab": {}
      },
      "source": [
        ""
      ],
      "execution_count": 0,
      "outputs": []
    }
  ]
}