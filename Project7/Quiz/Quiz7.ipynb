{
  "nbformat": 4,
  "nbformat_minor": 0,
  "metadata": {
    "colab": {
      "name": "Quiz7.ipynb",
      "version": "0.3.2",
      "provenance": [],
      "collapsed_sections": [],
      "include_colab_link": true
    },
    "kernelspec": {
      "name": "python3",
      "display_name": "Python 3"
    },
    "accelerator": "GPU"
  },
  "cells": [
    {
      "cell_type": "markdown",
      "metadata": {
        "id": "view-in-github",
        "colab_type": "text"
      },
      "source": [
        "<a href=\"https://colab.research.google.com/github/jagadeeshkn26/EVA2.0/blob/master/Project7/Quiz/Quiz7.ipynb\" target=\"_parent\"><img src=\"https://colab.research.google.com/assets/colab-badge.svg\" alt=\"Open In Colab\"/></a>"
      ]
    },
    {
      "cell_type": "markdown",
      "metadata": {
        "id": "aNyZv-Ec52ot",
        "colab_type": "text"
      },
      "source": [
        "# **Import Libraries and modules**"
      ]
    },
    {
      "cell_type": "code",
      "metadata": {
        "id": "3m3w1Cw49Zkt",
        "colab_type": "code",
        "outputId": "96c3390a-5e5c-45db-bbdb-4aea0b465808",
        "colab": {
          "base_uri": "https://localhost:8080/",
          "height": 34
        }
      },
      "source": [
        "# https://keras.io/\n",
        "!pip install -q keras\n",
        "import keras\n",
        "import datetime\n",
        "print(datetime.datetime.now())"
      ],
      "execution_count": 0,
      "outputs": [
        {
          "output_type": "stream",
          "text": [
            "2019-06-15 17:29:36.382455\n"
          ],
          "name": "stdout"
        }
      ]
    },
    {
      "cell_type": "code",
      "metadata": {
        "id": "Eso6UHE080D4",
        "colab_type": "code",
        "outputId": "c1e31c53-3e4e-4f18-86f6-237efa2958c1",
        "colab": {
          "base_uri": "https://localhost:8080/",
          "height": 34
        }
      },
      "source": [
        "import numpy as np\n",
        "\n",
        "from keras.models import Sequential\n",
        "from keras.layers import Dense, Dropout, Activation, Flatten, Add,Input\n",
        "from keras.layers import Conv2D, MaxPooling2D,SeparableConv2D,BatchNormalization\n",
        "from keras.utils import np_utils\n",
        "from keras.layers.merge import concatenate\n",
        "import tensorflow as tf\n",
        "from keras.models import Model\n",
        "\n",
        "from keras.datasets import mnist\n",
        "print(datetime.datetime.now())"
      ],
      "execution_count": 0,
      "outputs": [
        {
          "output_type": "stream",
          "text": [
            "2019-06-15 17:32:52.010978\n"
          ],
          "name": "stdout"
        }
      ]
    },
    {
      "cell_type": "markdown",
      "metadata": {
        "id": "zByEi95J86RD",
        "colab_type": "text"
      },
      "source": [
        "### Load pre-shuffled MNIST data into train and test sets"
      ]
    },
    {
      "cell_type": "code",
      "metadata": {
        "id": "7eRM0QWN83PV",
        "colab_type": "code",
        "outputId": "23988f99-1089-4ba6-f442-9a763de445e2",
        "colab": {
          "base_uri": "https://localhost:8080/",
          "height": 34
        }
      },
      "source": [
        "(X_train, y_train), (X_test, y_test) = mnist.load_data()\n",
        "print(datetime.datetime.now())"
      ],
      "execution_count": 0,
      "outputs": [
        {
          "output_type": "stream",
          "text": [
            "2019-06-15 17:31:25.503740\n"
          ],
          "name": "stdout"
        }
      ]
    },
    {
      "cell_type": "code",
      "metadata": {
        "id": "4a4Be72j8-ZC",
        "colab_type": "code",
        "outputId": "afc199ac-5bc5-4554-faad-ef5eff03097e",
        "colab": {
          "base_uri": "https://localhost:8080/",
          "height": 304
        }
      },
      "source": [
        "print (X_train.shape)\n",
        "from matplotlib import pyplot as plt\n",
        "%matplotlib inline\n",
        "plt.imshow(X_train[0])\n",
        "print(datetime.datetime.now())"
      ],
      "execution_count": 0,
      "outputs": [
        {
          "output_type": "stream",
          "text": [
            "(60000, 28, 28)\n",
            "2019-06-15 17:31:28.481532\n"
          ],
          "name": "stdout"
        },
        {
          "output_type": "display_data",
          "data": {
            "image/png": "[encoded data removed]",
            "text/plain": [
              "<Figure size 432x288 with 1 Axes>"
            ]
          },
          "metadata": {
            "tags": []
          }
        }
      ]
    },
    {
      "cell_type": "code",
      "metadata": {
        "id": "dkmprriw9AnZ",
        "colab_type": "code",
        "outputId": "1b54249d-b238-4088-9db2-e8b5132e86bc",
        "colab": {
          "base_uri": "https://localhost:8080/",
          "height": 34
        }
      },
      "source": [
        "X_train = X_train.reshape(X_train.shape[0], 28, 28,1)\n",
        "X_test = X_test.reshape(X_test.shape[0], 28, 28,1)\n",
        "print(datetime.datetime.now())"
      ],
      "execution_count": 0,
      "outputs": [
        {
          "output_type": "stream",
          "text": [
            "2019-06-15 17:31:34.771033\n"
          ],
          "name": "stdout"
        }
      ]
    },
    {
      "cell_type": "code",
      "metadata": {
        "id": "X2m4YS4E9CRh",
        "colab_type": "code",
        "outputId": "da888069-a603-4eb1-dd43-9d6ffeb84e11",
        "colab": {
          "base_uri": "https://localhost:8080/",
          "height": 34
        }
      },
      "source": [
        "X_train = X_train.astype('float32')\n",
        "X_test = X_test.astype('float32')\n",
        "X_train /= 255\n",
        "X_test /= 255\n",
        "print(datetime.datetime.now())"
      ],
      "execution_count": 0,
      "outputs": [
        {
          "output_type": "stream",
          "text": [
            "2019-06-15 17:31:37.953003\n"
          ],
          "name": "stdout"
        }
      ]
    },
    {
      "cell_type": "code",
      "metadata": {
        "id": "0Mn0vAYD9DvB",
        "colab_type": "code",
        "outputId": "495a0ec6-ba4e-48c9-d454-31dce86e081c",
        "colab": {
          "base_uri": "https://localhost:8080/",
          "height": 34
        }
      },
      "source": [
        "y_train[:10]\n",
        "print(datetime.datetime.now())"
      ],
      "execution_count": 0,
      "outputs": [
        {
          "output_type": "stream",
          "text": [
            "2019-06-15 17:31:41.177434\n"
          ],
          "name": "stdout"
        }
      ]
    },
    {
      "cell_type": "code",
      "metadata": {
        "id": "ZG8JiXR39FHC",
        "colab_type": "code",
        "outputId": "b0e0962f-6dab-4120-d76a-96cbda9d08fe",
        "colab": {
          "base_uri": "https://localhost:8080/",
          "height": 34
        }
      },
      "source": [
        "# Convert 1-dimensional class arrays to 10-dimensional class matrices\n",
        "Y_train = np_utils.to_categorical(y_train, 10)\n",
        "Y_test = np_utils.to_categorical(y_test, 10)\n",
        "print(datetime.datetime.now())"
      ],
      "execution_count": 0,
      "outputs": [
        {
          "output_type": "stream",
          "text": [
            "2019-06-15 17:31:46.889733\n"
          ],
          "name": "stdout"
        }
      ]
    },
    {
      "cell_type": "code",
      "metadata": {
        "id": "fYlFRvKS9HMB",
        "colab_type": "code",
        "outputId": "4a547fc1-c05f-4c5c-eff5-4cabba8619bc",
        "colab": {
          "base_uri": "https://localhost:8080/",
          "height": 34
        }
      },
      "source": [
        "Y_train[:10]\n",
        "print(datetime.datetime.now())"
      ],
      "execution_count": 0,
      "outputs": [
        {
          "output_type": "stream",
          "text": [
            "2019-06-15 17:31:51.981252\n"
          ],
          "name": "stdout"
        }
      ]
    },
    {
      "cell_type": "code",
      "metadata": {
        "id": "osKqT73Q9JJB",
        "colab_type": "code",
        "outputId": "3c64fe30-8f10-4688-f256-a5b2436fad74",
        "colab": {
          "base_uri": "https://localhost:8080/",
          "height": 34
        }
      },
      "source": [
        "## MAIN BLOCK\n",
        "\n",
        "from keras.layers import Activation\n",
        "input_shape = (28,28)+(1,)\n",
        "x1 = Input(shape = input_shape)\n",
        "skip_tensor = x1\n",
        "x2 = SeparableConv2D(32,3,strides=1,padding='same',data_format='channels_last',use_bias=False)(x1)\n",
        "x2 = BatchNormalization(axis = 3)(x2)\n",
        "x2 = Activation('relu')(x2)\n",
        "\n",
        "skip_tensor = concatenate([skip_tensor, x2])\n",
        "\n",
        "\n",
        "x3 = SeparableConv2D(64,3,strides=1,padding = 'same',data_format='channels_last',use_bias=False)(skip_tensor)\n",
        "x3 = BatchNormalization(axis = 3)(x3)\n",
        "x3 = Activation('relu')(x3)\n",
        "skip_tensor = concatenate([skip_tensor, x3])\n",
        "\n",
        "\n",
        "#adding Maxpooking layer\n",
        "x4 = MaxPooling2D(pool_size=(2,2),data_format='channels_last')(skip_tensor)\n",
        "\n",
        "skip_tensor = x4\n",
        "\n",
        "x5 = SeparableConv2D(32,3,strides=1,padding='same',data_format='channels_last',use_bias=False)(x4)\n",
        "x5 = BatchNormalization(axis = 3)(x5)\n",
        "x5 = Activation('relu')(x5)\n",
        "\n",
        "skip_tensor = concatenate([skip_tensor, x5])\n",
        "\n",
        "x6 = Conv2D(64, 3,strides=1,padding = 'same',data_format='channels_last',use_bias=False )(skip_tensor)\n",
        "x6 = BatchNormalization(axis = 3)(x6)\n",
        "x6 = Activation('relu')(x6)\n",
        "\n",
        "skip_tensor1 = concatenate([x5, x6])\n",
        "skip_tensor = concatenate([skip_tensor, x6])\n",
        "\n",
        "x7 = Conv2D(128, 3,strides=1,padding = 'same',data_format='channels_last',use_bias=False )(skip_tensor)\n",
        "x7 = BatchNormalization(axis = 3)(x7)\n",
        "x7 = Activation('relu')(x7)\n",
        "\n",
        "skip_tensor = concatenate([skip_tensor1, x7])\n",
        "\n",
        "x8 = MaxPooling2D(pool_size=(2,2),data_format='channels_last')(skip_tensor)\n",
        "\n",
        "x9 = SeparableConv2D(32 ,3,strides=1,padding='same',data_format='channels_last',use_bias=False)(x8)\n",
        "x9 = BatchNormalization(axis = 3)(x9)\n",
        "x9 = Activation('relu')(x9)\n",
        "skip_tensor = concatenate([x8, x9])\n",
        "\n",
        "x10 = Conv2D(64, 3,strides=1,padding = 'same',data_format='channels_last',use_bias=False )(skip_tensor)\n",
        "x10 = BatchNormalization(axis = 3)(x10)\n",
        "x10 = Activation('relu')(x10)\n",
        "\n",
        "\n",
        "skip_tensor = concatenate([skip_tensor, x10])\n",
        "\n",
        "x11 = Conv2D(64, 1,strides=1,padding = 'same',data_format='channels_last',use_bias=False )(skip_tensor)\n",
        "x11 = BatchNormalization(axis = 3)(x11)\n",
        "x11 = Activation('relu')(x11)\n",
        "\n",
        "\n",
        "x = Conv2D(10,7,strides=1,data_format='channels_last',use_bias=False)(x11)\n",
        "\n",
        "x = Flatten()(x)\n",
        "output = Activation('softmax')(x)\n",
        "print(datetime.datetime.now())"
      ],
      "execution_count": 0,
      "outputs": [
        {
          "output_type": "stream",
          "text": [
            "2019-06-15 17:32:59.683942\n"
          ],
          "name": "stdout"
        }
      ]
    },
    {
      "cell_type": "code",
      "metadata": {
        "id": "TzdAYg1k9K7Z",
        "colab_type": "code",
        "outputId": "08818a00-059f-4225-d35a-1b0b48142bc2",
        "colab": {
          "base_uri": "https://localhost:8080/",
          "height": 1636
        }
      },
      "source": [
        "model = Model(inputs=x1, outputs=output)\n",
        "model.summary()\n",
        "\n",
        "print(datetime.datetime.now())"
      ],
      "execution_count": 0,
      "outputs": [
        {
          "output_type": "stream",
          "text": [
            "__________________________________________________________________________________________________\n",
            "Layer (type)                    Output Shape         Param #     Connected to                     \n",
            "==================================================================================================\n",
            "input_2 (InputLayer)            (None, 28, 28, 1)    0                                            \n",
            "__________________________________________________________________________________________________\n",
            "separable_conv2d_4 (SeparableCo (None, 28, 28, 32)   41          input_2[0][0]                    \n",
            "__________________________________________________________________________________________________\n",
            "batch_normalization_4 (BatchNor (None, 28, 28, 32)   128         separable_conv2d_4[0][0]         \n",
            "__________________________________________________________________________________________________\n",
            "activation_4 (Activation)       (None, 28, 28, 32)   0           batch_normalization_4[0][0]      \n",
            "__________________________________________________________________________________________________\n",
            "concatenate_4 (Concatenate)     (None, 28, 28, 33)   0           input_2[0][0]                    \n",
            "                                                                 activation_4[0][0]               \n",
            "__________________________________________________________________________________________________\n",
            "separable_conv2d_5 (SeparableCo (None, 28, 28, 64)   2409        concatenate_4[0][0]              \n",
            "__________________________________________________________________________________________________\n",
            "batch_normalization_5 (BatchNor (None, 28, 28, 64)   256         separable_conv2d_5[0][0]         \n",
            "__________________________________________________________________________________________________\n",
            "activation_5 (Activation)       (None, 28, 28, 64)   0           batch_normalization_5[0][0]      \n",
            "__________________________________________________________________________________________________\n",
            "concatenate_5 (Concatenate)     (None, 28, 28, 97)   0           concatenate_4[0][0]              \n",
            "                                                                 activation_5[0][0]               \n",
            "__________________________________________________________________________________________________\n",
            "max_pooling2d_2 (MaxPooling2D)  (None, 14, 14, 97)   0           concatenate_5[0][0]              \n",
            "__________________________________________________________________________________________________\n",
            "separable_conv2d_6 (SeparableCo (None, 14, 14, 32)   3977        max_pooling2d_2[0][0]            \n",
            "__________________________________________________________________________________________________\n",
            "batch_normalization_6 (BatchNor (None, 14, 14, 32)   128         separable_conv2d_6[0][0]         \n",
            "__________________________________________________________________________________________________\n",
            "activation_6 (Activation)       (None, 14, 14, 32)   0           batch_normalization_6[0][0]      \n",
            "__________________________________________________________________________________________________\n",
            "concatenate_6 (Concatenate)     (None, 14, 14, 129)  0           max_pooling2d_2[0][0]            \n",
            "                                                                 activation_6[0][0]               \n",
            "__________________________________________________________________________________________________\n",
            "conv2d_1 (Conv2D)               (None, 14, 14, 64)   74304       concatenate_6[0][0]              \n",
            "__________________________________________________________________________________________________\n",
            "batch_normalization_7 (BatchNor (None, 14, 14, 64)   256         conv2d_1[0][0]                   \n",
            "__________________________________________________________________________________________________\n",
            "activation_7 (Activation)       (None, 14, 14, 64)   0           batch_normalization_7[0][0]      \n",
            "__________________________________________________________________________________________________\n",
            "concatenate_8 (Concatenate)     (None, 14, 14, 193)  0           concatenate_6[0][0]              \n",
            "                                                                 activation_7[0][0]               \n",
            "__________________________________________________________________________________________________\n",
            "conv2d_2 (Conv2D)               (None, 14, 14, 128)  222336      concatenate_8[0][0]              \n",
            "__________________________________________________________________________________________________\n",
            "batch_normalization_8 (BatchNor (None, 14, 14, 128)  512         conv2d_2[0][0]                   \n",
            "__________________________________________________________________________________________________\n",
            "concatenate_7 (Concatenate)     (None, 14, 14, 96)   0           activation_6[0][0]               \n",
            "                                                                 activation_7[0][0]               \n",
            "__________________________________________________________________________________________________\n",
            "activation_8 (Activation)       (None, 14, 14, 128)  0           batch_normalization_8[0][0]      \n",
            "__________________________________________________________________________________________________\n",
            "concatenate_9 (Concatenate)     (None, 14, 14, 224)  0           concatenate_7[0][0]              \n",
            "                                                                 activation_8[0][0]               \n",
            "__________________________________________________________________________________________________\n",
            "max_pooling2d_3 (MaxPooling2D)  (None, 7, 7, 224)    0           concatenate_9[0][0]              \n",
            "__________________________________________________________________________________________________\n",
            "separable_conv2d_7 (SeparableCo (None, 7, 7, 32)     9184        max_pooling2d_3[0][0]            \n",
            "__________________________________________________________________________________________________\n",
            "batch_normalization_9 (BatchNor (None, 7, 7, 32)     128         separable_conv2d_7[0][0]         \n",
            "__________________________________________________________________________________________________\n",
            "activation_9 (Activation)       (None, 7, 7, 32)     0           batch_normalization_9[0][0]      \n",
            "__________________________________________________________________________________________________\n",
            "concatenate_10 (Concatenate)    (None, 7, 7, 256)    0           max_pooling2d_3[0][0]            \n",
            "                                                                 activation_9[0][0]               \n",
            "__________________________________________________________________________________________________\n",
            "conv2d_3 (Conv2D)               (None, 7, 7, 64)     147456      concatenate_10[0][0]             \n",
            "__________________________________________________________________________________________________\n",
            "batch_normalization_10 (BatchNo (None, 7, 7, 64)     256         conv2d_3[0][0]                   \n",
            "__________________________________________________________________________________________________\n",
            "activation_10 (Activation)      (None, 7, 7, 64)     0           batch_normalization_10[0][0]     \n",
            "__________________________________________________________________________________________________\n",
            "concatenate_11 (Concatenate)    (None, 7, 7, 320)    0           concatenate_10[0][0]             \n",
            "                                                                 activation_10[0][0]              \n",
            "__________________________________________________________________________________________________\n",
            "conv2d_4 (Conv2D)               (None, 7, 7, 64)     20480       concatenate_11[0][0]             \n",
            "__________________________________________________________________________________________________\n",
            "batch_normalization_11 (BatchNo (None, 7, 7, 64)     256         conv2d_4[0][0]                   \n",
            "__________________________________________________________________________________________________\n",
            "activation_11 (Activation)      (None, 7, 7, 64)     0           batch_normalization_11[0][0]     \n",
            "__________________________________________________________________________________________________\n",
            "conv2d_5 (Conv2D)               (None, 1, 1, 10)     31360       activation_11[0][0]              \n",
            "__________________________________________________________________________________________________\n",
            "flatten_1 (Flatten)             (None, 10)           0           conv2d_5[0][0]                   \n",
            "__________________________________________________________________________________________________\n",
            "activation_12 (Activation)      (None, 10)           0           flatten_1[0][0]                  \n",
            "==================================================================================================\n",
            "Total params: 513,467\n",
            "Trainable params: 512,507\n",
            "Non-trainable params: 960\n",
            "__________________________________________________________________________________________________\n",
            "2019-06-15 17:33:58.536331\n"
          ],
          "name": "stdout"
        }
      ]
    },
    {
      "cell_type": "code",
      "metadata": {
        "id": "Zp6SuGrL9M3h",
        "colab_type": "code",
        "outputId": "2227f284-b6bf-46f6-d034-0236e32d1541",
        "colab": {
          "base_uri": "https://localhost:8080/",
          "height": 90
        }
      },
      "source": [
        "model.compile(loss='categorical_crossentropy',\n",
        "             optimizer='adam',\n",
        "             metrics=['accuracy'])\n",
        "print(datetime.datetime.now())"
      ],
      "execution_count": 0,
      "outputs": [
        {
          "output_type": "stream",
          "text": [
            "W0615 17:34:21.779165 140288852809600 deprecation_wrapper.py:119] From /usr/local/lib/python3.6/dist-packages/keras/optimizers.py:790: The name tf.train.Optimizer is deprecated. Please use tf.compat.v1.train.Optimizer instead.\n",
            "\n"
          ],
          "name": "stderr"
        },
        {
          "output_type": "stream",
          "text": [
            "2019-06-15 17:34:21.821777\n"
          ],
          "name": "stdout"
        }
      ]
    },
    {
      "cell_type": "code",
      "metadata": {
        "id": "4xWoKhPY9Of5",
        "colab_type": "code",
        "outputId": "0259280e-4c35-4ab2-a971-b9f8e45a8d2a",
        "colab": {
          "base_uri": "https://localhost:8080/",
          "height": 494
        }
      },
      "source": [
        "model.fit(X_train, Y_train, batch_size=32, nb_epoch=10, verbose=1)\n",
        "print(datetime.datetime.now())"
      ],
      "execution_count": 0,
      "outputs": [
        {
          "output_type": "stream",
          "text": [
            "/usr/local/lib/python3.6/dist-packages/ipykernel_launcher.py:1: UserWarning: The `nb_epoch` argument in `fit` has been renamed `epochs`.\n",
            "  \"\"\"Entry point for launching an IPython kernel.\n",
            "W0615 17:34:25.582956 140288852809600 deprecation.py:323] From /usr/local/lib/python3.6/dist-packages/tensorflow/python/ops/math_grad.py:1250: add_dispatch_support.<locals>.wrapper (from tensorflow.python.ops.array_ops) is deprecated and will be removed in a future version.\n",
            "Instructions for updating:\n",
            "Use tf.where in 2.0, which has the same broadcast rule as np.where\n"
          ],
          "name": "stderr"
        },
        {
          "output_type": "stream",
          "text": [
            "Epoch 1/10\n",
            "60000/60000 [==============================] - 29s 480us/step - loss: 0.0939 - acc: 0.9707\n",
            "Epoch 2/10\n",
            "60000/60000 [==============================] - 26s 426us/step - loss: 0.0434 - acc: 0.9862\n",
            "Epoch 3/10\n",
            "60000/60000 [==============================] - 25s 424us/step - loss: 0.0323 - acc: 0.9899\n",
            "Epoch 4/10\n",
            "60000/60000 [==============================] - 26s 431us/step - loss: 0.0251 - acc: 0.9919\n",
            "Epoch 5/10\n",
            "60000/60000 [==============================] - 25s 424us/step - loss: 0.0203 - acc: 0.9934\n",
            "Epoch 6/10\n",
            "60000/60000 [==============================] - 26s 425us/step - loss: 0.0158 - acc: 0.9948\n",
            "Epoch 7/10\n",
            "60000/60000 [==============================] - 26s 431us/step - loss: 0.0131 - acc: 0.9959\n",
            "Epoch 8/10\n",
            "60000/60000 [==============================] - 26s 430us/step - loss: 0.0104 - acc: 0.9964\n",
            "Epoch 9/10\n",
            "60000/60000 [==============================] - 26s 430us/step - loss: 0.0103 - acc: 0.9966\n",
            "Epoch 10/10\n",
            "60000/60000 [==============================] - 26s 431us/step - loss: 0.0075 - acc: 0.9975\n",
            "2019-06-15 17:38:46.596070\n"
          ],
          "name": "stdout"
        }
      ]
    },
    {
      "cell_type": "code",
      "metadata": {
        "id": "AtsH-lLk-eLb",
        "colab_type": "code",
        "outputId": "9af3de73-2c36-46a1-8134-de0263e9624c",
        "colab": {
          "base_uri": "https://localhost:8080/",
          "height": 34
        }
      },
      "source": [
        "score = model.evaluate(X_test, Y_test, verbose=0)\n",
        "print(datetime.datetime.now())"
      ],
      "execution_count": 0,
      "outputs": [
        {
          "output_type": "stream",
          "text": [
            "2019-06-15 17:38:51.412443\n"
          ],
          "name": "stdout"
        }
      ]
    },
    {
      "cell_type": "code",
      "metadata": {
        "id": "mkX8JMv79q9r",
        "colab_type": "code",
        "outputId": "9d23ab70-9974-4877-9a2f-f5413a404446",
        "colab": {
          "base_uri": "https://localhost:8080/",
          "height": 52
        }
      },
      "source": [
        "print(score)\n",
        "print(datetime.datetime.now())"
      ],
      "execution_count": 0,
      "outputs": [
        {
          "output_type": "stream",
          "text": [
            "[0.031645976240094936, 0.9921]\n",
            "2019-06-15 17:38:56.705524\n"
          ],
          "name": "stdout"
        }
      ]
    },
    {
      "cell_type": "code",
      "metadata": {
        "id": "5k-oqF15OIdR",
        "colab_type": "code",
        "colab": {}
      },
      "source": [
        ""
      ],
      "execution_count": 0,
      "outputs": []
    }
  ]
}